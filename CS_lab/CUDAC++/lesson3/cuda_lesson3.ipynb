{
 "cells": [
  {
   "cell_type": "markdown",
   "metadata": {},
   "source": [
    "# 流与可视化"
   ]
  },
  {
   "cell_type": "markdown",
   "metadata": {},
   "source": [
    "## 并发CUDA流\n",
    "****\n",
    "**流是由顺序执行的一串命令组成的**\n",
    "- 默认流 : CUDA代码默认执行核函数的地方\n",
    "- 非默认流 : CUDA允许你创建非默认流,非默认流允许了并发的执行多个核函数以及互相的交流\n",
    "\n",
    "\n",
    "流的运行规则\n",
    "- 给定流中的所有操作会按序执行。\n",
    "- 就不同非默认流中的操作而言，无法保证其会按彼此之间的任何特定顺序执行。\n",
    "- 默认流具有阻断能力，即，它会等待其它已在运行的所有流完成当前操作之后才运行，但在其自身运行完毕之前亦会阻碍其它流的运行。"
   ]
  },
  {
   "cell_type": "code",
   "execution_count": null,
   "metadata": {},
   "outputs": [],
   "source": [
    "%%HTML\n",
    "\n",
    "<div align=\"center\"><iframe src=\"https://view.officeapps.live.com/op/view.aspx?src=https://developer.download.nvidia.com/training/courses/C-AC-01-V1/AC_STREAMS_NVVP-zh/NVVP-Streams-1-zh.pptx\" frameborder=\"0\" width=\"900\" height=\"550\" allowfullscreen=\"true\" mozallowfullscreen=\"true\" webkitallowfullscreen=\"true\"></iframe></div>"
   ]
  },
  {
   "cell_type": "markdown",
   "metadata": {},
   "source": [
    "### 创建使用和销毁非默认流\n",
    "\n",
    "```c++\n",
    "cudaStream_t stream; //流的类型为cudastream_t\n",
    "\n",
    "cudaStreamCreate(&stream); \n",
    "\n",
    "someKernel<<<number_of_blockd , threads_per_block , 0 , stream>>>();\n",
    "\n",
    "cudaSteamDestroy(stream); // 传入的是值而不是指针\n",
    "```\n",
    "\n"
   ]
  }
 ],
 "metadata": {
  "language_info": {
   "name": "python"
  },
  "orig_nbformat": 4
 },
 "nbformat": 4,
 "nbformat_minor": 2
}
