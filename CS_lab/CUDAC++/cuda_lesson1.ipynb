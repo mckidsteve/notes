{
 "cells": [
  {
   "cell_type": "markdown",
   "metadata": {},
   "source": [
    "# CUDA C++ class one : 使用cuda C/C++加速程序"
   ]
  },
  {
   "cell_type": "code",
   "execution_count": null,
   "metadata": {
    "vscode": {
     "languageId": "plaintext"
    }
   },
   "outputs": [],
   "source": [
    "!nvidia-smi"
   ]
  },
  {
   "cell_type": "markdown",
   "metadata": {},
   "source": [
    "## 将由cpu驱动的应用程序改为使用gpu驱动的应用程序\n",
    "\n",
    "- **__global__ function(){}**  : 将函数声明为全局，供设备（gpu）调用\n",
    "- **function<<<blockIdx.x , blockDim.x>>>();**  : 调用函数，并声明使用几个线程块用于运行\n",
    "- **cudaDeviceSynchronize();**  : 同步gpu的结果返回给cpu\n"
   ]
  },
  {
   "cell_type": "code",
   "execution_count": null,
   "metadata": {
    "vscode": {
     "languageId": "plaintext"
    }
   },
   "outputs": [],
   "source": [
    "!nvcc -arch=sm_70 -o out some-CUDA.cu -run"
   ]
  },
  {
   "cell_type": "markdown",
   "metadata": {},
   "source": [
    "## 线程层次结构\n",
    "\n",
    "- **threadIdx.x**   : 每个线程在对应线程块的索引量\n",
    "- **blockIdx.x**    : 每个线程块在申请到的总线程池中的索引量\n",
    "- **blockDim.x**    : 每个块中总的线程数\n",
    "- **gridDim.x**     : 网格中线程块的数量"
   ]
  },
  {
   "cell_type": "markdown",
   "metadata": {},
   "source": [
    "## 在GPU上访问内存\n",
    "\n",
    "- **cudaMallocManaged(&a , size);**\n",
    "- **cudaFree(a);**"
   ]
  },
  {
   "cell_type": "markdown",
   "metadata": {},
   "source": [
    "## 错误处理\n",
    "```nvcc\n",
    "#include <stdio.h>\n",
    "#include <assert.h>\n",
    "\n",
    "inline cudaError_t checkCuda(cudaError_t result)\n",
    "{\n",
    "  if (result != cudaSuccess) {\n",
    "    fprintf(stderr, \"CUDA Runtime Error: %s\\n\", cudaGetErrorString(result));\n",
    "    assert(result == cudaSuccess);\n",
    "  }\n",
    "  return result;\n",
    "}\n",
    "\n",
    "int main()\n",
    "{\n",
    "\n",
    "/*\n",
    " * The macro can be wrapped around any function returning\n",
    " * a value of type `cudaError_t`.\n",
    " */\n",
    "\n",
    "  checkCuda( cudaDeviceSynchronize() )\n",
    "}\n",
    "```"
   ]
  }
 ],
 "metadata": {
  "language_info": {
   "name": "python"
  },
  "orig_nbformat": 4
 },
 "nbformat": 4,
 "nbformat_minor": 2
}
